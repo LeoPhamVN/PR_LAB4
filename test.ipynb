{
 "cells": [
  {
   "cell_type": "code",
   "execution_count": null,
   "metadata": {},
   "outputs": [],
   "source": []
  },
  {
   "cell_type": "code",
   "execution_count": 3,
   "metadata": {},
   "outputs": [
    {
     "name": "stdout",
     "output_type": "stream",
     "text": [
      "27.0\n"
     ]
    }
   ],
   "source": [
    "import numpy as np\n",
    "\n",
    "a = np.array([3,3,3])\n",
    "b = np.array([3,3,3]).T\n",
    "A = np.diag(np.ones(3))\n",
    "print(a@A@b)"
   ]
  },
  {
   "cell_type": "code",
   "execution_count": 19,
   "metadata": {},
   "outputs": [
    {
     "name": "stdout",
     "output_type": "stream",
     "text": [
      "[[1.         0.         0.        ]\n",
      " [0.         0.5        0.        ]\n",
      " [0.         0.         0.33333333]]\n",
      "[[1. 0. 0. 0.]\n",
      " [0. 1. 0. 0.]\n",
      " [0. 0. 1. 0.]\n",
      " [0. 0. 0. 1.]]\n"
     ]
    }
   ],
   "source": [
    "c = np.diag([1,2,3])\n",
    "d = np.linalg.inv(c)\n",
    "\n",
    "print(d)\n",
    "\n",
    "I           = np.diag(np.ones(4)) \n",
    "print(I)"
   ]
  },
  {
   "cell_type": "code",
   "execution_count": 6,
   "metadata": {},
   "outputs": [
    {
     "name": "stdout",
     "output_type": "stream",
     "text": [
      "[[0.005      0.         0.         0.         0.         0.        ]\n",
      " [0.         0.005      0.         0.         0.         0.        ]\n",
      " [0.         0.         0.00015231 0.         0.         0.        ]\n",
      " [0.         0.         0.         0.01       0.         0.        ]\n",
      " [0.         0.         0.         0.         0.01       0.        ]\n",
      " [0.         0.         0.         0.         0.         0.00030462]]\n"
     ]
    }
   ],
   "source": [
    "dt = 1\n",
    "\n",
    "Qw = np.array([0.1 ** 2, 0.1 ** 2, np.deg2rad(1) ** 2])             # covariance of the acceleration according to 3 axises (x, y, heading)\n",
    "Qk = np.block([1/2 * Qw * dt**2, Qw * dt])\n",
    "Qk = np.diag(Qk)  \n",
    "\n",
    "print(Qk)"
   ]
  },
  {
   "cell_type": "code",
   "execution_count": 8,
   "metadata": {},
   "outputs": [
    {
     "name": "stdout",
     "output_type": "stream",
     "text": [
      "[]\n"
     ]
    }
   ],
   "source": [
    "zk = np.zeros((0, 1))  # empty vector\n",
    "Rk = np.zeros((0, 0))  # empty matrix\n",
    "\n",
    "print(Rk)"
   ]
  },
  {
   "cell_type": "code",
   "execution_count": 3,
   "metadata": {},
   "outputs": [
    {
     "name": "stdout",
     "output_type": "stream",
     "text": [
      "[ 0.01664865  0.0077351  -0.00369868]\n"
     ]
    }
   ],
   "source": [
    "\n",
    "        \n",
    "Qk = np.diag(np.array([0.1 ** 2, 0.1 ** 2, np.deg2rad(5) ** 2]))  # covariance of simulated displacement noise\n",
    "\n",
    "noise = np.random.normal(0, Qk.diagonal())\n",
    "\n",
    "print(noise)"
   ]
  },
  {
   "cell_type": "code",
   "execution_count": 16,
   "metadata": {},
   "outputs": [
    {
     "name": "stdout",
     "output_type": "stream",
     "text": [
      "0\n"
     ]
    }
   ],
   "source": [
    "a = np.zeros((0,1))\n",
    "\n",
    "b = np.zeros((1,2))\n",
    "\n",
    "print(a.size)"
   ]
  },
  {
   "cell_type": "code",
   "execution_count": 19,
   "metadata": {},
   "outputs": [
    {
     "name": "stdout",
     "output_type": "stream",
     "text": [
      "[[1. 0. 0. 0.]\n",
      " [0. 1. 0. 0.]\n",
      " [0. 0. 1. 0.]]\n"
     ]
    }
   ],
   "source": [
    "F = np.block([np.diag(np.ones(3)), np.zeros((3,1))])\n",
    "print(F)"
   ]
  },
  {
   "cell_type": "code",
   "execution_count": 9,
   "metadata": {},
   "outputs": [
    {
     "name": "stdout",
     "output_type": "stream",
     "text": [
      "[[3.]\n",
      " [3.]\n",
      " [3.]]\n"
     ]
    }
   ],
   "source": [
    "a = np.empty((3,1))\n",
    "print(a)"
   ]
  },
  {
   "cell_type": "code",
   "execution_count": 3,
   "metadata": {},
   "outputs": [
    {
     "name": "stdout",
     "output_type": "stream",
     "text": [
      "[[-5]\n",
      " [40]]\n"
     ]
    }
   ],
   "source": [
    "from Feature import *\n",
    "M = [CartesianFeature(np.array([[-40, 5]]).T),\n",
    "           CartesianFeature(np.array([[-5, 40]]).T),\n",
    "           CartesianFeature(np.array([[-5, 25]]).T),\n",
    "           CartesianFeature(np.array([[-3, 50]]).T),\n",
    "           CartesianFeature(np.array([[-20, 3]]).T),\n",
    "           CartesianFeature(np.array([[40,-40]]).T)]  \n",
    "print(M[1])"
   ]
  },
  {
   "cell_type": "code",
   "execution_count": 27,
   "metadata": {},
   "outputs": [
    {
     "name": "stdout",
     "output_type": "stream",
     "text": [
      "[1 2 3 4 5 1 2 3 4 5 1 2 3 4 5]\n",
      "<class 'numpy.ndarray'>\n"
     ]
    }
   ],
   "source": [
    "LIST = [np.array([1, 2, 3, 4, 5]), np.array([1, 2, 3, 4, 5]),np.array([1,2,3,4,5])] # inner lists are numpy arrays\n",
    "print(np.concatenate( LIST, axis=0 ))\n",
    "print(type(LIST[0]))"
   ]
  },
  {
   "cell_type": "code",
   "execution_count": 25,
   "metadata": {},
   "outputs": [
    {
     "name": "stdout",
     "output_type": "stream",
     "text": [
      "[]\n",
      "(1, 0)\n"
     ]
    },
    {
     "ename": "ValueError",
     "evalue": "all the input array dimensions except for the concatenation axis must match exactly, but along dimension 1, the array at index 0 has size 0 and the array at index 1 has size 1",
     "output_type": "error",
     "traceback": [
      "\u001b[0;31m---------------------------------------------------------------------------\u001b[0m",
      "\u001b[0;31mValueError\u001b[0m                                Traceback (most recent call last)",
      "Cell \u001b[0;32mIn[25], line 4\u001b[0m\n\u001b[1;32m      2\u001b[0m \u001b[38;5;28mprint\u001b[39m(a)\n\u001b[1;32m      3\u001b[0m \u001b[38;5;28mprint\u001b[39m(a\u001b[38;5;241m.\u001b[39mshape)\n\u001b[0;32m----> 4\u001b[0m a \u001b[38;5;241m=\u001b[39m \u001b[43mnp\u001b[49m\u001b[38;5;241;43m.\u001b[39;49m\u001b[43mblock\u001b[49m\u001b[43m(\u001b[49m\u001b[43m[\u001b[49m\u001b[43m[\u001b[49m\u001b[43ma\u001b[49m\u001b[43m]\u001b[49m\u001b[43m,\u001b[49m\u001b[43m \u001b[49m\u001b[43m[\u001b[49m\u001b[38;5;241;43m1\u001b[39;49m\u001b[43m]\u001b[49m\u001b[43m]\u001b[49m\u001b[43m)\u001b[49m\n\u001b[1;32m      5\u001b[0m \u001b[38;5;28mprint\u001b[39m(a)\n",
      "File \u001b[0;32m~/.local/lib/python3.10/site-packages/numpy/core/shape_base.py:872\u001b[0m, in \u001b[0;36mblock\u001b[0;34m(arrays)\u001b[0m\n\u001b[1;32m    870\u001b[0m     \u001b[38;5;28;01mreturn\u001b[39;00m _block_slicing(arrays, list_ndim, result_ndim)\n\u001b[1;32m    871\u001b[0m \u001b[38;5;28;01melse\u001b[39;00m:\n\u001b[0;32m--> 872\u001b[0m     \u001b[38;5;28;01mreturn\u001b[39;00m \u001b[43m_block_concatenate\u001b[49m\u001b[43m(\u001b[49m\u001b[43marrays\u001b[49m\u001b[43m,\u001b[49m\u001b[43m \u001b[49m\u001b[43mlist_ndim\u001b[49m\u001b[43m,\u001b[49m\u001b[43m \u001b[49m\u001b[43mresult_ndim\u001b[49m\u001b[43m)\u001b[49m\n",
      "File \u001b[0;32m~/.local/lib/python3.10/site-packages/numpy/core/shape_base.py:916\u001b[0m, in \u001b[0;36m_block_concatenate\u001b[0;34m(arrays, list_ndim, result_ndim)\u001b[0m\n\u001b[1;32m    915\u001b[0m \u001b[38;5;28;01mdef\u001b[39;00m \u001b[38;5;21m_block_concatenate\u001b[39m(arrays, list_ndim, result_ndim):\n\u001b[0;32m--> 916\u001b[0m     result \u001b[38;5;241m=\u001b[39m \u001b[43m_block\u001b[49m\u001b[43m(\u001b[49m\u001b[43marrays\u001b[49m\u001b[43m,\u001b[49m\u001b[43m \u001b[49m\u001b[43mlist_ndim\u001b[49m\u001b[43m,\u001b[49m\u001b[43m \u001b[49m\u001b[43mresult_ndim\u001b[49m\u001b[43m)\u001b[49m\n\u001b[1;32m    917\u001b[0m     \u001b[38;5;28;01mif\u001b[39;00m list_ndim \u001b[38;5;241m==\u001b[39m \u001b[38;5;241m0\u001b[39m:\n\u001b[1;32m    918\u001b[0m         \u001b[38;5;66;03m# Catch an edge case where _block returns a view because\u001b[39;00m\n\u001b[1;32m    919\u001b[0m         \u001b[38;5;66;03m# `arrays` is a single numpy array and not a list of numpy arrays.\u001b[39;00m\n\u001b[1;32m    920\u001b[0m         \u001b[38;5;66;03m# This might copy scalars or lists twice, but this isn't a likely\u001b[39;00m\n\u001b[1;32m    921\u001b[0m         \u001b[38;5;66;03m# usecase for those interested in performance\u001b[39;00m\n\u001b[1;32m    922\u001b[0m         result \u001b[38;5;241m=\u001b[39m result\u001b[38;5;241m.\u001b[39mcopy()\n",
      "File \u001b[0;32m~/.local/lib/python3.10/site-packages/numpy/core/shape_base.py:685\u001b[0m, in \u001b[0;36m_block\u001b[0;34m(arrays, max_depth, result_ndim, depth)\u001b[0m\n\u001b[1;32m    682\u001b[0m \u001b[38;5;28;01mif\u001b[39;00m depth \u001b[38;5;241m<\u001b[39m max_depth:\n\u001b[1;32m    683\u001b[0m     arrs \u001b[38;5;241m=\u001b[39m [_block(arr, max_depth, result_ndim, depth\u001b[38;5;241m+\u001b[39m\u001b[38;5;241m1\u001b[39m)\n\u001b[1;32m    684\u001b[0m             \u001b[38;5;28;01mfor\u001b[39;00m arr \u001b[38;5;129;01min\u001b[39;00m arrays]\n\u001b[0;32m--> 685\u001b[0m     \u001b[38;5;28;01mreturn\u001b[39;00m \u001b[43m_concatenate\u001b[49m\u001b[43m(\u001b[49m\u001b[43marrs\u001b[49m\u001b[43m,\u001b[49m\u001b[43m \u001b[49m\u001b[43maxis\u001b[49m\u001b[38;5;241;43m=\u001b[39;49m\u001b[38;5;241;43m-\u001b[39;49m\u001b[43m(\u001b[49m\u001b[43mmax_depth\u001b[49m\u001b[38;5;241;43m-\u001b[39;49m\u001b[43mdepth\u001b[49m\u001b[43m)\u001b[49m\u001b[43m)\u001b[49m\n\u001b[1;32m    686\u001b[0m \u001b[38;5;28;01melse\u001b[39;00m:\n\u001b[1;32m    687\u001b[0m     \u001b[38;5;66;03m# We've 'bottomed out' - arrays is either a scalar or an array\u001b[39;00m\n\u001b[1;32m    688\u001b[0m     \u001b[38;5;66;03m# type(arrays) is not list\u001b[39;00m\n\u001b[1;32m    689\u001b[0m     \u001b[38;5;28;01mreturn\u001b[39;00m _atleast_nd(arrays, result_ndim)\n",
      "\u001b[0;31mValueError\u001b[0m: all the input array dimensions except for the concatenation axis must match exactly, but along dimension 1, the array at index 0 has size 0 and the array at index 1 has size 1"
     ]
    }
   ],
   "source": [
    "a = np.zeros((1,0))\n",
    "print(a)\n",
    "print(a.shape)\n",
    "a = np.block([[a], [1]])\n",
    "print(a)"
   ]
  },
  {
   "cell_type": "code",
   "execution_count": 4,
   "metadata": {},
   "outputs": [
    {
     "name": "stdout",
     "output_type": "stream",
     "text": [
      "(3, 4)\n"
     ]
    }
   ],
   "source": [
    "a = np.array([[1,2,3,4],[5,6,7,8],[9,1,2,3]])\n",
    "print(np.shape(a))"
   ]
  },
  {
   "cell_type": "code",
   "execution_count": 4,
   "metadata": {},
   "outputs": [
    {
     "name": "stdout",
     "output_type": "stream",
     "text": [
      "[[0.]\n",
      " [0.]]\n"
     ]
    }
   ],
   "source": [
    "import numpy as np\n",
    "a = np.zeros((0,1))\n",
    "b = np.zeros((2,1))\n",
    "\n",
    "print(np.block([[a], [b]]))\n"
   ]
  },
  {
   "cell_type": "code",
   "execution_count": 2,
   "metadata": {},
   "outputs": [
    {
     "name": "stdout",
     "output_type": "stream",
     "text": [
      "(2, 2)\n",
      "2\n"
     ]
    }
   ],
   "source": [
    "import numpy as np\n",
    "a = np.array([[1,1], [1,1]])\n",
    "\n",
    "print(np.shape(a))\n",
    "for i in range(2,3):\n",
    "    print(i)\n"
   ]
  }
 ],
 "metadata": {
  "kernelspec": {
   "display_name": "Python 3",
   "language": "python",
   "name": "python3"
  },
  "language_info": {
   "codemirror_mode": {
    "name": "ipython",
    "version": 3
   },
   "file_extension": ".py",
   "mimetype": "text/x-python",
   "name": "python",
   "nbconvert_exporter": "python",
   "pygments_lexer": "ipython3",
   "version": "3.10.12"
  }
 },
 "nbformat": 4,
 "nbformat_minor": 2
}
