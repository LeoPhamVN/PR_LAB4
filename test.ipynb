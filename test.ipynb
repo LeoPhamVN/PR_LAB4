{
 "cells": [
  {
   "cell_type": "code",
   "execution_count": null,
   "metadata": {},
   "outputs": [],
   "source": []
  },
  {
   "cell_type": "code",
   "execution_count": 2,
   "metadata": {},
   "outputs": [
    {
     "name": "stdout",
     "output_type": "stream",
     "text": [
      "27.0\n"
     ]
    }
   ],
   "source": [
    "import numpy as np\n",
    "\n",
    "a = np.array([3,3,3])\n",
    "b = np.array([3,3,3]).T\n",
    "A = np.diag(np.ones(3))\n",
    "print(a@A@b)"
   ]
  },
  {
   "cell_type": "code",
   "execution_count": 19,
   "metadata": {},
   "outputs": [
    {
     "name": "stdout",
     "output_type": "stream",
     "text": [
      "[[1.         0.         0.        ]\n",
      " [0.         0.5        0.        ]\n",
      " [0.         0.         0.33333333]]\n",
      "[[1. 0. 0. 0.]\n",
      " [0. 1. 0. 0.]\n",
      " [0. 0. 1. 0.]\n",
      " [0. 0. 0. 1.]]\n"
     ]
    }
   ],
   "source": [
    "c = np.diag([1,2,3])\n",
    "d = np.linalg.inv(c)\n",
    "\n",
    "print(d)\n",
    "\n",
    "I           = np.diag(np.ones(4)) \n",
    "print(I)"
   ]
  },
  {
   "cell_type": "code",
   "execution_count": 6,
   "metadata": {},
   "outputs": [
    {
     "name": "stdout",
     "output_type": "stream",
     "text": [
      "[[0.005      0.         0.         0.         0.         0.        ]\n",
      " [0.         0.005      0.         0.         0.         0.        ]\n",
      " [0.         0.         0.00015231 0.         0.         0.        ]\n",
      " [0.         0.         0.         0.01       0.         0.        ]\n",
      " [0.         0.         0.         0.         0.01       0.        ]\n",
      " [0.         0.         0.         0.         0.         0.00030462]]\n"
     ]
    }
   ],
   "source": [
    "dt = 1\n",
    "\n",
    "Qw = np.array([0.1 ** 2, 0.1 ** 2, np.deg2rad(1) ** 2])             # covariance of the acceleration according to 3 axises (x, y, heading)\n",
    "Qk = np.block([1/2 * Qw * dt**2, Qw * dt])\n",
    "Qk = np.diag(Qk)  \n",
    "\n",
    "print(Qk)"
   ]
  },
  {
   "cell_type": "code",
   "execution_count": 8,
   "metadata": {},
   "outputs": [
    {
     "name": "stdout",
     "output_type": "stream",
     "text": [
      "[]\n"
     ]
    }
   ],
   "source": [
    "zk = np.zeros((0, 1))  # empty vector\n",
    "Rk = np.zeros((0, 0))  # empty matrix\n",
    "\n",
    "print(Rk)"
   ]
  }
 ],
 "metadata": {
  "kernelspec": {
   "display_name": "Python 3",
   "language": "python",
   "name": "python3"
  },
  "language_info": {
   "codemirror_mode": {
    "name": "ipython",
    "version": 3
   },
   "file_extension": ".py",
   "mimetype": "text/x-python",
   "name": "python",
   "nbconvert_exporter": "python",
   "pygments_lexer": "ipython3",
   "version": "3.10.12"
  }
 },
 "nbformat": 4,
 "nbformat_minor": 2
}
